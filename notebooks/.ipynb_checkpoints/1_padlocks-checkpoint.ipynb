{
 "cells": [
  {
   "cell_type": "markdown",
   "id": "96afe8ed-1a1f-44eb-a542-e20721cde418",
   "metadata": {},
   "source": [
    "Wilcor locks\n",
    "---\n",
    "\n",
    "Black word lock \"MATCH\""
   ]
  },
  {
   "cell_type": "code",
   "execution_count": 61,
   "id": "fd39af9d-b9e7-4f5b-858c-ad97096f42b4",
   "metadata": {},
   "outputs": [
    {
     "data": {
      "text/plain": [
       "array(['ANOTE', 'LASER', 'SPELL', 'WORDS', 'BRIAN', 'PILOT', 'FLASH'],\n",
       "      dtype='<U5')"
      ]
     },
     "execution_count": 61,
     "metadata": {},
     "output_type": "execute_result"
    }
   ],
   "source": [
    "import numpy as np\n",
    "\n",
    "#black MATCH\n",
    "# words = [\"MATCH\",\"SOASS\",\"TECN \", \"ALDEK\", \"BIEYL\", \"CHIAD\", \"DULLY\", \"ERNIN\", \"JNRTA\", \"LTSOE\"]\n",
    "\n",
    "#blue and black LEAST Wordlock\n",
    "# words = ['LEAST','ACLON','TLIAS','DIRDL','MRELR','FOSEE','PPOT ', 'BATRD', 'WNUNY', 'STNKH']\n",
    "\n",
    "#red and black PLANT Wordlock\n",
    "# words = ['PLANT','BILKN','WRISS','SOROL','LPEAR','AASDE','TNOL ','DTTED','MEUTY','FCNRH']\n",
    "\n",
    "# Blue and while 4-letter\n",
    "# words = ['LETS', 'NILT','BONL','DUAN','MYCE','JRDD','PTEH','RLOK','SHRY','TASR']\n",
    "\n",
    "# pink WORDS\n",
    "words = ['ANOTE','LASER','SPELL','WORDS','BRIAN','PILOT','FLASH']\n",
    "\n",
    "words = np.array(words)\n",
    "words\n"
   ]
  },
  {
   "cell_type": "code",
   "execution_count": 62,
   "id": "8574d911-be64-47be-807e-8a91325a847b",
   "metadata": {},
   "outputs": [
    {
     "data": {
      "text/plain": [
       "array([['A', 'N', 'O', 'T', 'E'],\n",
       "       ['L', 'A', 'S', 'E', 'R'],\n",
       "       ['S', 'P', 'E', 'L', 'L'],\n",
       "       ['W', 'O', 'R', 'D', 'S'],\n",
       "       ['B', 'R', 'I', 'A', 'N'],\n",
       "       ['P', 'I', 'L', 'O', 'T'],\n",
       "       ['F', 'L', 'A', 'S', 'H']], dtype='<U1')"
      ]
     },
     "execution_count": 62,
     "metadata": {},
     "output_type": "execute_result"
    }
   ],
   "source": [
    "# black MATCH\n",
    "words = np.array([\n",
    "    [\n",
    "        letter\n",
    "        for letter in word\n",
    "    ]\n",
    "    for word in words\n",
    "])\n",
    "words"
   ]
  },
  {
   "cell_type": "code",
   "execution_count": 63,
   "id": "5bf0d326-b683-4191-af45-33c16a6d8ac7",
   "metadata": {},
   "outputs": [],
   "source": [
    "w1, w2, w3, w4, w5 = words.T"
   ]
  },
  {
   "cell_type": "code",
   "execution_count": 64,
   "id": "51c96f65-cc9d-4884-9c45-dbd8b1789cb2",
   "metadata": {},
   "outputs": [],
   "source": [
    "with open('./5letters.txt') as the_file:\n",
    "    all_words = the_file.read()\n",
    "\n",
    "all_words = all_words.split('\\n')"
   ]
  },
  {
   "cell_type": "code",
   "execution_count": 65,
   "id": "0d139446-8160-4e99-ae1a-c93df81f7e00",
   "metadata": {},
   "outputs": [],
   "source": [
    "word_rearrangements = [\n",
    "    a + b + c + d + e\n",
    "    for a in w1\n",
    "    for b in w2\n",
    "    for c in w3\n",
    "    for d in w4\n",
    "    for e in w5\n",
    "]"
   ]
  },
  {
   "cell_type": "code",
   "execution_count": 66,
   "id": "1da878c5-13dd-4961-adcb-76232341135b",
   "metadata": {
    "scrolled": true
   },
   "outputs": [],
   "source": [
    "real_words = []\n",
    "for word in word_rearrangements:\n",
    "    if word.lower() in all_words:\n",
    "        real_words.append(word)\n",
    "\n",
    "# with open('./1_blackmatch.txt', 'w') as the_file:\n",
    "with open('./4_pinkWORDS.txt', 'w') as the_file:\n",
    "    the_file.write('\\n'.join(real_words))"
   ]
  },
  {
   "cell_type": "code",
   "execution_count": null,
   "id": "5cdd79ef-8ca0-4dee-b0b6-874348cc39a8",
   "metadata": {},
   "outputs": [],
   "source": []
  }
 ],
 "metadata": {
  "kernelspec": {
   "display_name": "Python 3 (ipykernel)",
   "language": "python",
   "name": "python3"
  },
  "language_info": {
   "codemirror_mode": {
    "name": "ipython",
    "version": 3
   },
   "file_extension": ".py",
   "mimetype": "text/x-python",
   "name": "python",
   "nbconvert_exporter": "python",
   "pygments_lexer": "ipython3",
   "version": "3.12.3"
  }
 },
 "nbformat": 4,
 "nbformat_minor": 5
}
