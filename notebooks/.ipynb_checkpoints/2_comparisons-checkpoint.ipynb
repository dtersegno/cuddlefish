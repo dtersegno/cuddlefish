{
 "cells": [
  {
   "cell_type": "markdown",
   "id": "5c7485b5-e379-4058-b643-4887bf926d5f",
   "metadata": {},
   "source": [
    "Square comparisons\n",
    "---\n",
    "\n",
    "For a 5x5 system"
   ]
  },
  {
   "cell_type": "code",
   "execution_count": 1,
   "id": "860d0356-8023-491e-a7bf-7344feaf68c3",
   "metadata": {},
   "outputs": [],
   "source": [
    "import numpy as np"
   ]
  },
  {
   "cell_type": "code",
   "execution_count": 21,
   "id": "9e10ae84-4994-4fab-918f-cbab920decd1",
   "metadata": {},
   "outputs": [
    {
     "data": {
      "text/plain": [
       "[[1, 5],\n",
       " [2, 6],\n",
       " [3, 7],\n",
       " [4, 8],\n",
       " [6, 10],\n",
       " [7, 11],\n",
       " [8, 12],\n",
       " [9, 13],\n",
       " [11, 15],\n",
       " [12, 16],\n",
       " [13, 17],\n",
       " [14, 18],\n",
       " [16, 20],\n",
       " [17, 21],\n",
       " [18, 22],\n",
       " [19, 23]]"
      ]
     },
     "execution_count": 21,
     "metadata": {},
     "output_type": "execute_result"
    }
   ],
   "source": [
    "squares = np.arange(0,25).reshape((5,5))\n",
    "\n",
    "V = np.stack(\n",
    "    [\n",
    "        squares[:-1],\n",
    "        squares[1:]\n",
    "    ],\n",
    "    2\n",
    ").reshape(-1,2).tolist()\n",
    "\n",
    "H = np.stack(\n",
    "    [\n",
    "        squares[:,:-1],\n",
    "        squares[:,1:]\n",
    "    ],\n",
    "    2\n",
    ").reshape(-1,2).tolist()\n",
    "\n",
    "D1 = np.stack(\n",
    "    [\n",
    "        squares[:-1,:-1],\n",
    "        squares[1:,1:]\n",
    "    ],\n",
    "    2\n",
    ").reshape(-1,2).tolist()\n",
    "\n",
    "D2 = np.stack(\n",
    "    [\n",
    "        squares[:-1, 1:],\n",
    "        squares[1:, :-1]\n",
    "    ],\n",
    "    2\n",
    ").reshape(-1,2).tolist()\n",
    "\n",
    "EC_L = [\n",
    "    [0,5],\n",
    "    [5,10],\n",
    "    [10,15],\n",
    "    [15,20]\n",
    "]\n",
    "\n",
    "EC_R = [\n",
    "    [4,9],\n",
    "    [9,14],\n",
    "    [14,19],\n",
    "    [19,24]\n",
    "]\n",
    "\n",
    "EC_U = [\n",
    "    [0,1],\n",
    "    [1,2],\n",
    "    [2,3],\n",
    "    [3,4]\n",
    "]\n",
    "\n",
    "EC_D = [\n",
    "    [20, 21],\n",
    "    [21, 22],\n",
    "    [22, 23],\n",
    "    [23, 24]\n",
    "]\n",
    "\n",
    "EE_L = EC_L\n",
    "EE_R = EC_R\n",
    "EE_D = EC_D\n",
    "EE_U = EC_U"
   ]
  },
  {
   "cell_type": "code",
   "execution_count": null,
   "id": "a511a1f7-777a-4287-9c2b-016bd1d7d8d3",
   "metadata": {},
   "outputs": [],
   "source": []
  }
 ],
 "metadata": {
  "kernelspec": {
   "display_name": "Python 3 (ipykernel)",
   "language": "python",
   "name": "python3"
  },
  "language_info": {
   "codemirror_mode": {
    "name": "ipython",
    "version": 3
   },
   "file_extension": ".py",
   "mimetype": "text/x-python",
   "name": "python",
   "nbconvert_exporter": "python",
   "pygments_lexer": "ipython3",
   "version": "3.12.3"
  }
 },
 "nbformat": 4,
 "nbformat_minor": 5
}
