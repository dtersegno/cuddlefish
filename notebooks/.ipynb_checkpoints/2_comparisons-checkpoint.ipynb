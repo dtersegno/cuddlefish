{
 "cells": [
  {
   "cell_type": "markdown",
   "id": "5c7485b5-e379-4058-b643-4887bf926d5f",
   "metadata": {},
   "source": [
    "Square comparisons\n",
    "---\n",
    "\n",
    "For a 5x5 system"
   ]
  },
  {
   "cell_type": "code",
   "execution_count": 1,
   "id": "860d0356-8023-491e-a7bf-7344feaf68c3",
   "metadata": {},
   "outputs": [],
   "source": [
    "import numpy as np"
   ]
  },
  {
   "cell_type": "code",
   "execution_count": 22,
   "id": "9e10ae84-4994-4fab-918f-cbab920decd1",
   "metadata": {},
   "outputs": [],
   "source": [
    "squares = np.arange(0,25).reshape((5,5))\n",
    "\n",
    "#which squares are connected to which, given the connection type?\n",
    "#ex. the elements of H = [[0,1],[1,2],...] say that squares 0 and 1\n",
    "#are H adjacent, 1 and 2 are H adjacent, etc.\n",
    "\n",
    "V = np.stack(\n",
    "    [\n",
    "        squares[:-1],\n",
    "        squares[1:]\n",
    "    ],\n",
    "    2\n",
    ").reshape(-1,2).tolist()\n",
    "\n",
    "H = np.stack(\n",
    "    [\n",
    "        squares[:,:-1],\n",
    "        squares[:,1:]\n",
    "    ],\n",
    "    2\n",
    ").reshape(-1,2).tolist()\n",
    "\n",
    "D1 = np.stack(\n",
    "    [\n",
    "        squares[:-1,:-1],\n",
    "        squares[1:,1:]\n",
    "    ],\n",
    "    2\n",
    ").reshape(-1,2).tolist()\n",
    "\n",
    "D2 = np.stack(\n",
    "    [\n",
    "        squares[:-1, 1:],\n",
    "        squares[1:, :-1]\n",
    "    ],\n",
    "    2\n",
    ").reshape(-1,2).tolist()\n",
    "\n",
    "EC_L = [\n",
    "    [0,5],\n",
    "    [5,10],\n",
    "    [10,15],\n",
    "    [15,20]\n",
    "]\n",
    "\n",
    "EC_R = [\n",
    "    [4,9],\n",
    "    [9,14],\n",
    "    [14,19],\n",
    "    [19,24]\n",
    "]\n",
    "\n",
    "EC_U = [\n",
    "    [0,1],\n",
    "    [1,2],\n",
    "    [2,3],\n",
    "    [3,4]\n",
    "]\n",
    "\n",
    "EC_D = [\n",
    "    [20, 21],\n",
    "    [21, 22],\n",
    "    [22, 23],\n",
    "    [23, 24]\n",
    "]\n",
    "\n",
    "EE_L = EC_L\n",
    "EE_R = EC_R\n",
    "EE_D = EC_D\n",
    "EE_U = EC_U"
   ]
  },
  {
   "cell_type": "code",
   "execution_count": 25,
   "id": "a511a1f7-777a-4287-9c2b-016bd1d7d8d3",
   "metadata": {},
   "outputs": [
    {
     "data": {
      "text/plain": [
       "[[0, 1],\n",
       " [1, 2],\n",
       " [2, 3],\n",
       " [3, 4],\n",
       " [5, 6],\n",
       " [6, 7],\n",
       " [7, 8],\n",
       " [8, 9],\n",
       " [10, 11],\n",
       " [11, 12],\n",
       " [12, 13],\n",
       " [13, 14],\n",
       " [15, 16],\n",
       " [16, 17],\n",
       " [17, 18],\n",
       " [18, 19],\n",
       " [20, 21],\n",
       " [21, 22],\n",
       " [22, 23],\n",
       " [23, 24]]"
      ]
     },
     "execution_count": 25,
     "metadata": {},
     "output_type": "execute_result"
    }
   ],
   "source": [
    "H"
   ]
  },
  {
   "cell_type": "code",
   "execution_count": 26,
   "id": "ed74959d-4c39-4ceb-b233-01ffa338eae0",
   "metadata": {},
   "outputs": [
    {
     "data": {
      "text/plain": [
       "[[0, 5],\n",
       " [1, 6],\n",
       " [2, 7],\n",
       " [3, 8],\n",
       " [4, 9],\n",
       " [5, 10],\n",
       " [6, 11],\n",
       " [7, 12],\n",
       " [8, 13],\n",
       " [9, 14],\n",
       " [10, 15],\n",
       " [11, 16],\n",
       " [12, 17],\n",
       " [13, 18],\n",
       " [14, 19],\n",
       " [15, 20],\n",
       " [16, 21],\n",
       " [17, 22],\n",
       " [18, 23],\n",
       " [19, 24]]"
      ]
     },
     "execution_count": 26,
     "metadata": {},
     "output_type": "execute_result"
    }
   ],
   "source": [
    "V"
   ]
  },
  {
   "cell_type": "code",
   "execution_count": 27,
   "id": "8e5226ff-4817-4e31-a275-7a885ebff71f",
   "metadata": {},
   "outputs": [
    {
     "data": {
      "text/plain": [
       "[[0, 6],\n",
       " [1, 7],\n",
       " [2, 8],\n",
       " [3, 9],\n",
       " [5, 11],\n",
       " [6, 12],\n",
       " [7, 13],\n",
       " [8, 14],\n",
       " [10, 16],\n",
       " [11, 17],\n",
       " [12, 18],\n",
       " [13, 19],\n",
       " [15, 21],\n",
       " [16, 22],\n",
       " [17, 23],\n",
       " [18, 24]]"
      ]
     },
     "execution_count": 27,
     "metadata": {},
     "output_type": "execute_result"
    }
   ],
   "source": [
    "D1"
   ]
  },
  {
   "cell_type": "code",
   "execution_count": 28,
   "id": "75a1e852-14bb-478c-88a2-999e38a7dbe9",
   "metadata": {},
   "outputs": [
    {
     "data": {
      "text/plain": [
       "[[1, 5],\n",
       " [2, 6],\n",
       " [3, 7],\n",
       " [4, 8],\n",
       " [6, 10],\n",
       " [7, 11],\n",
       " [8, 12],\n",
       " [9, 13],\n",
       " [11, 15],\n",
       " [12, 16],\n",
       " [13, 17],\n",
       " [14, 18],\n",
       " [16, 20],\n",
       " [17, 21],\n",
       " [18, 22],\n",
       " [19, 23]]"
      ]
     },
     "execution_count": 28,
     "metadata": {},
     "output_type": "execute_result"
    }
   ],
   "source": [
    "D2"
   ]
  }
 ],
 "metadata": {
  "kernelspec": {
   "display_name": "Python 3 (ipykernel)",
   "language": "python",
   "name": "python3"
  },
  "language_info": {
   "codemirror_mode": {
    "name": "ipython",
    "version": 3
   },
   "file_extension": ".py",
   "mimetype": "text/x-python",
   "name": "python",
   "nbconvert_exporter": "python",
   "pygments_lexer": "ipython3",
   "version": "3.12.3"
  }
 },
 "nbformat": 4,
 "nbformat_minor": 5
}
