{
 "cells": [
  {
   "cell_type": "markdown",
   "id": "55dc07c2-d1e3-475f-9184-29978015c58d",
   "metadata": {},
   "source": [
    "--- Paths ---\n",
    "-------------\n",
    "\n",
    "# Inter-square\n",
    "\n",
    "There are 28 distinct paths through the square labeled 0 on the right edge, counterclockwise to 7 in the lower right corner. (no directionality)\n",
    "\n",
    "Down to rotations and mirror images, there are:\n",
    "- diagonals (2)\n",
    "- h and v bars (2)\n",
    "- corner to far edge (8) \"hook\"\n",
    "- edge-to-adjacent-edge (4) \"corner\"\n",
    "- corner to adjacent edge (8) \"point\", \"needle\"\n",
    "- corner-to-adjacent-corner (4) \"pyramid\""
   ]
  },
  {
   "cell_type": "code",
   "execution_count": null,
   "id": "a0b74030-b5e3-41f2-b467-3915f1ecd407",
   "metadata": {},
   "outputs": [],
   "source": [
    "from matplotlib import pyplot as plt\n"
   ]
  }
 ],
 "metadata": {
  "kernelspec": {
   "display_name": "Python 3 (ipykernel)",
   "language": "python",
   "name": "python3"
  },
  "language_info": {
   "codemirror_mode": {
    "name": "ipython",
    "version": 3
   },
   "file_extension": ".py",
   "mimetype": "text/x-python",
   "name": "python",
   "nbconvert_exporter": "python",
   "pygments_lexer": "ipython3",
   "version": "3.12.3"
  }
 },
 "nbformat": 4,
 "nbformat_minor": 5
}
